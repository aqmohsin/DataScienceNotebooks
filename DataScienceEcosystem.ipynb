{
  "metadata": {
    "kernelspec": {
      "name": "python",
      "display_name": "Python (Pyodide)",
      "language": "python"
    },
    "language_info": {
      "codemirror_mode": {
        "name": "python",
        "version": 3
      },
      "file_extension": ".py",
      "mimetype": "text/x-python",
      "name": "python",
      "nbconvert_exporter": "python",
      "pygments_lexer": "ipython3",
      "version": "3.8"
    }
  },
  "nbformat_minor": 5,
  "nbformat": 4,
  "cells": [
    {
      "id": "71d77413-744d-4681-97d9-52bebb8a5d48",
      "cell_type": "markdown",
      "source": "In this notebook, Data Science Tools and Ecosystem are summarized.",
      "metadata": {}
    },
    {
      "id": "efe07886-3c91-49d3-b456-71091a71bd2c",
      "cell_type": "markdown",
      "source": "Some of the popular languages that Data Scientists use are:\n1. Python\n2. R\n3. SQL",
      "metadata": {}
    },
    {
      "id": "46b4492f-d33a-48df-b378-95d9a40d9d2c",
      "cell_type": "markdown",
      "source": "Some of the commonly used libraries used by Data Scientists include:\n1. NumPy\n2. Pandas\n3. Scikit-learn\n4. Matplotlib\n5. Seaborn",
      "metadata": {}
    },
    {
      "id": "3f5c5ba7-675e-4065-9527-80ed6947adbb",
      "cell_type": "markdown",
      "source": "| Data Science Tools |\n|--------------------|\n| Jupyter Notebook   |\n| RStudio            |\n| VS Code            |",
      "metadata": {}
    },
    {
      "id": "4a907bbe-b566-4b4f-94c3-e5676fd46309",
      "cell_type": "markdown",
      "source": "### Below are a few examples of evaluating arithmetic expressions in Python",
      "metadata": {}
    },
    {
      "id": "75186f81-594a-45ef-adb0-790078cb6bd9",
      "cell_type": "code",
      "source": "# This is a simple arithmetic expression to multiply then add integers.\n(3 * 4) + 5",
      "metadata": {
        "trusted": true
      },
      "outputs": [
        {
          "execution_count": 1,
          "output_type": "execute_result",
          "data": {
            "text/plain": "17"
          },
          "metadata": {}
        }
      ],
      "execution_count": 1
    },
    {
      "id": "a649b6fc-49d4-4a58-9259-cdcde50c22cf",
      "cell_type": "code",
      "source": "# This will convert 200 minutes to hours by dividing by 60.\n200 / 60",
      "metadata": {
        "trusted": true
      },
      "outputs": [
        {
          "execution_count": 2,
          "output_type": "execute_result",
          "data": {
            "text/plain": "3.3333333333333335"
          },
          "metadata": {}
        }
      ],
      "execution_count": 2
    },
    {
      "id": "f50cf192-7514-42a7-a11f-c73a035db94e",
      "cell_type": "markdown",
      "source": "**Objectives:**\n\n* List popular languages for Data Science.\n* List popular libraries for Data Science.\n* Demonstrate evaluating arithmetic expressions in Python.\n* Demonstrate converting minutes to hours in Python.",
      "metadata": {}
    },
    {
      "id": "b2d9944e-5314-41d3-9762-7fe9610601f4",
      "cell_type": "markdown",
      "source": "## Author\nAbdul Qahhar Mohsin",
      "metadata": {}
    }
  ]
}